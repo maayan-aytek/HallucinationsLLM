{
 "cells": [
  {
   "cell_type": "code",
   "execution_count": 1,
   "metadata": {},
   "outputs": [],
   "source": [
    "import pandas as pd\n",
    "import re\n",
    "import ast"
   ]
  },
  {
   "cell_type": "code",
   "execution_count": 2,
   "metadata": {},
   "outputs": [],
   "source": [
    "df4 = pd.read_pickle(\"/home/student/HallucinationsLLM/data/team4_df.pkl\")\n",
    "df5 = pd.read_excel(\"/home/student/HallucinationsLLM/data/team5_clean_dataset.xlsx\", index_col=0)"
   ]
  },
  {
   "cell_type": "code",
   "execution_count": 3,
   "metadata": {},
   "outputs": [
    {
     "data": {
      "text/plain": [
       "['https://cdn.pixabay.com/photo/2016/11/18/13/23/action-1834465_1280.jpg',\n",
       " 'https://cdn.pixabay.com/photo/2016/11/29/05/26/beach-1867524_1280.jpg',\n",
       " 'https://cdn.pixabay.com/photo/2019/11/29/08/34/space-4660847_1280.jpg']"
      ]
     },
     "execution_count": 3,
     "metadata": {},
     "output_type": "execute_result"
    }
   ],
   "source": [
    "image_overlap = list(set(df4.index).intersection(df5['image_link']))\n",
    "image_overlap"
   ]
  },
  {
   "cell_type": "code",
   "execution_count": 4,
   "metadata": {},
   "outputs": [],
   "source": [
    "def get_max_key_value(d):\n",
    "    if d:\n",
    "        max_key = max(d, key=d.get)\n",
    "        return max_key, d[max_key]\n",
    "    else:\n",
    "        return None, None\n",
    "\n",
    "def process_df4(df):\n",
    "    df['hallucinations'].fillna(df['hillucination_text'], inplace=True)\n",
    "    df = df.drop('hillucination_text', axis=1)\n",
    "    df['image_link'] = df.index\n",
    "    df = df.reset_index(drop=True)\n",
    "    for i in range(1,5):\n",
    "        df[[f'pred_{i}', f'pred_{i}_prob']] = df[f'pred_{i}'].apply(lambda x: pd.Series(get_max_key_value(x)))\n",
    "    \n",
    "    df.rename(columns={'text': 'description', 'generated_logits': 'logits'}, inplace=True)\n",
    "    df['temperature'] = 0.7\n",
    "    return df"
   ]
  },
  {
   "cell_type": "code",
   "execution_count": 5,
   "metadata": {},
   "outputs": [
    {
     "name": "stderr",
     "output_type": "stream",
     "text": [
      "/tmp/ipykernel_32301/891426945.py:9: FutureWarning: A value is trying to be set on a copy of a DataFrame or Series through chained assignment using an inplace method.\n",
      "The behavior will change in pandas 3.0. This inplace method will never work because the intermediate object on which we are setting values always behaves as a copy.\n",
      "\n",
      "For example, when doing 'df[col].method(value, inplace=True)', try using 'df.method({col: value}, inplace=True)' or df[col] = df[col].method(value) instead, to perform the operation inplace on the original object.\n",
      "\n",
      "\n",
      "  df['hallucinations'].fillna(df['hillucination_text'], inplace=True)\n"
     ]
    }
   ],
   "source": [
    "df4 = process_df4(df4)\n",
    "df = pd.concat([df4, df5]).reset_index(drop=True)"
   ]
  },
  {
   "cell_type": "code",
   "execution_count": 6,
   "metadata": {},
   "outputs": [],
   "source": [
    "df4.to_excel('team4_df.xlsx')"
   ]
  },
  {
   "cell_type": "code",
   "execution_count": 12,
   "metadata": {},
   "outputs": [],
   "source": [
    "df = df4"
   ]
  },
  {
   "cell_type": "code",
   "execution_count": 13,
   "metadata": {},
   "outputs": [],
   "source": [
    "def validate_brackets(string):\n",
    "    counter = 0\n",
    "    for c in string: \n",
    "        if c == \"[\":\n",
    "            counter += 1 \n",
    "        elif c == \"]\":\n",
    "            counter -= 1\n",
    "        if counter < 0 or counter > 1:\n",
    "            return False \n",
    "    return True\n",
    "\n",
    "def validate_spaces(s):\n",
    "    if \"[\" not in s:\n",
    "        return True\n",
    "    matches = re.finditer(r'\\[.*?\\]', s)\n",
    "    for match in matches:\n",
    "        start, end = match.span()\n",
    "        # Check character before the match\n",
    "        if start > 0 and s[start - 1].isalpha():\n",
    "            return False\n",
    "        # Check character after the match\n",
    "        if end < len(s) and s[end].isalpha():\n",
    "            return False\n",
    "    return True\n",
    "\n",
    "def check(logits):\n",
    "    tokens = []\n",
    "    for token, _ in logits: \n",
    "        if \"<\" in token or \">\" in token:\n",
    "            tokens.append(token)\n",
    "    return list(set(tokens))\n",
    "\n",
    "\n",
    "def clean_text(text):\n",
    "    # Remove specific substrings\n",
    "    text = re.sub(r'<0x0A>', ' ', text)\n",
    "    text = re.sub(r'</s>', '', text)\n",
    "    # Remove any other unwanted patterns (adjust the regex if needed)\n",
    "    text = re.sub(r'<[^>]*>', '', text)\n",
    "    return text.strip()\n",
    "\n",
    "def count_words(text):\n",
    "    words = text.split()\n",
    "    return len(words)\n",
    "\n",
    "def extract_brackets_len(text):\n",
    "    lens = []\n",
    "    cleaned_text = clean_text(text)\n",
    "    words = cleaned_text.split()\n",
    "    for i, word in enumerate(words):\n",
    "        if \"[\" in word:\n",
    "            counter = 0\n",
    "            for j in range(i, len(words)):\n",
    "                counter += 1\n",
    "                if \"]\" in words[j]:\n",
    "                    break\n",
    "            lens.append(counter)\n",
    "    return lens\n",
    "\n",
    "def dot_in_hal(text):\n",
    "    lens = []\n",
    "    cleaned_text = clean_text(text)\n",
    "    words = cleaned_text.split()\n",
    "    for i, word in enumerate(words):\n",
    "        if \"[\" in word:\n",
    "            counter = 0\n",
    "            for j in range(i, len(words)):\n",
    "                counter += 1\n",
    "                if \".\" in words[j]:\n",
    "                    print(words[j])\n",
    "                if \"]\" in words[j]:\n",
    "                    break\n",
    "            lens.append(counter)\n",
    "    return lens\n",
    "\n",
    "\n",
    "def count_brackets(string):\n",
    "    counter = 0\n",
    "    for c in string: \n",
    "        if c == \"[\":\n",
    "            counter += 1 \n",
    "    return counter\n",
    "\n",
    "\n",
    "def columns_compatibility(description, hallucinations, hedges, context1, context2, context3, context4):\n",
    "    text_set = set()\n",
    "    text_set.add(description.replace(\" \", \"\"))\n",
    "    text_set.add(hallucinations.replace(\"[\", \"\").replace(\"]\", \"\").replace(\" \", \"\"))\n",
    "    # text_set.add(hedges.replace(\"[\", \"\").replace(\"]\", \"\").replace(\" \", \"\"))\n",
    "    # text_set.add(context1.replace(\"[\", \"\").replace(\"]\", \"\").replace(\" \", \"\"))\n",
    "    # text_set.add(context2.replace(\"[\", \"\").replace(\"]\", \"\").replace(\" \", \"\"))\n",
    "    # text_set.add(context3.replace(\"[\", \"\").replace(\"]\", \"\").replace(\" \", \"\"))\n",
    "    # text_set.add(context4.replace(\"[\", \"\").replace(\"]\", \"\").replace(\" \", \"\"))\n",
    "    return len(text_set)"
   ]
  },
  {
   "cell_type": "code",
   "execution_count": 14,
   "metadata": {},
   "outputs": [
    {
     "data": {
      "text/plain": [
       "50    2\n",
       "88    2\n",
       "dtype: int64"
      ]
     },
     "execution_count": 14,
     "metadata": {},
     "output_type": "execute_result"
    }
   ],
   "source": [
    "rows_compatibilty = df.apply(lambda row: columns_compatibility(row['description'], row['hallucinations'], row['hedges'], row['context_1'], row['context_2'], row['context_3'], row['context_4']), axis=1)\n",
    "rows_compatibilty[rows_compatibilty != 1]"
   ]
  },
  {
   "cell_type": "code",
   "execution_count": 15,
   "metadata": {},
   "outputs": [
    {
     "data": {
      "text/plain": [
       "Index([114, 115], dtype='int64')"
      ]
     },
     "execution_count": 15,
     "metadata": {},
     "output_type": "execute_result"
    }
   ],
   "source": [
    "a = df['hallucinations'].apply(count_brackets)\n",
    "a[a == 0].index"
   ]
  },
  {
   "cell_type": "code",
   "execution_count": 16,
   "metadata": {},
   "outputs": [
    {
     "name": "stdout",
     "output_type": "stream",
     "text": [
      "hedges validation test failed: 199\n",
      "indexes [156]\n",
      "hedges space test failed: 199\n",
      "indexes [184]\n",
      "context_1 space test failed: 198\n",
      "indexes [15, 27]\n",
      "context_2 space test failed: 196\n",
      "indexes [5, 8, 38, 47]\n",
      "context_3 validation test failed: 198\n",
      "indexes [177, 193]\n",
      "context_4 space test failed: 197\n",
      "indexes [5, 8, 9]\n"
     ]
    }
   ],
   "source": [
    "cols_with_brackets = ['hallucinations', 'hedges', 'context_1', 'context_2', 'context_3', 'context_4']\n",
    "for col in cols_with_brackets:\n",
    "    validation_result = df[col].apply(lambda x: validate_brackets(x))\n",
    "    passed_num = validation_result.astype(int).sum() \n",
    "    valid_spaces = df[col].apply(validate_spaces)\n",
    "    valid_space_num = valid_spaces.astype(int).sum() \n",
    "    if 'context' in col:\n",
    "        brackets_count = df[col].apply(count_brackets)\n",
    "        zero_brackets = brackets_count[brackets_count == 0]\n",
    "        if len(zero_brackets) > 0:\n",
    "            print(f\"{col} has zero brackets: {zero_brackets.index.tolist()}\")\n",
    "    if passed_num != len(df):\n",
    "        print(f\"{col} validation test failed: {passed_num}\")\n",
    "        print(\"indexes\", validation_result[validation_result == False].index.tolist())\n",
    "    if valid_space_num != len(df):\n",
    "        print(f\"{col} space test failed: {valid_space_num}\")\n",
    "        print(\"indexes\", valid_spaces[valid_spaces == False].index.tolist())"
   ]
  },
  {
   "cell_type": "code",
   "execution_count": 23,
   "metadata": {},
   "outputs": [
    {
     "data": {
      "text/plain": [
       "{'</s>', '<0x0A>'}"
      ]
     },
     "execution_count": 23,
     "metadata": {},
     "output_type": "execute_result"
    }
   ],
   "source": [
    "df['logits'] = df['logits'].apply(lambda x: ast.literal_eval(x) if isinstance(x, str) else x)\n",
    "lst = df['logits'].apply(check).tolist()\n",
    "flattened_list = [item for sublist in lst for item in sublist]\n",
    "set(flattened_list)"
   ]
  },
  {
   "cell_type": "code",
   "execution_count": 34,
   "metadata": {},
   "outputs": [
    {
     "data": {
      "text/plain": [
       "logits\n",
       "100    136\n",
       "150     50\n",
       "200     14\n",
       "Name: count, dtype: int64"
      ]
     },
     "execution_count": 34,
     "metadata": {},
     "output_type": "execute_result"
    }
   ],
   "source": [
    "df['logits'].apply(lambda x: len(x)).value_counts()"
   ]
  },
  {
   "cell_type": "code",
   "execution_count": 31,
   "metadata": {},
   "outputs": [
    {
     "name": "stdout",
     "output_type": "stream",
     "text": [
      "0 100\n",
      "1 100\n",
      "2 100\n",
      "3 100\n",
      "4 100\n",
      "5 100\n",
      "6 100\n",
      "7 100\n",
      "8 100\n",
      "9 100\n",
      "10 100\n",
      "11 100\n",
      "12 100\n",
      "13 100\n",
      "14 70\n",
      "15 65\n",
      "16 75\n",
      "17 77\n",
      "18 79\n",
      "19 71\n",
      "20 73\n",
      "21 76\n",
      "22 78\n",
      "23 78\n",
      "24 77\n",
      "25 82\n",
      "26 81\n",
      "27 81\n",
      "28 81\n",
      "29 83\n",
      "30 72\n",
      "31 82\n",
      "32 79\n",
      "33 68\n",
      "34 80\n",
      "35 67\n",
      "36 81\n",
      "37 77\n",
      "38 85\n",
      "39 80\n",
      "40 84\n",
      "41 71\n",
      "42 79\n",
      "43 82\n",
      "44 77\n",
      "45 79\n",
      "46 70\n",
      "47 79\n",
      "48 83\n",
      "49 61\n",
      "50 82\n",
      "51 78\n",
      "52 78\n",
      "53 78\n",
      "54 78\n",
      "55 76\n",
      "56 75\n",
      "57 70\n",
      "58 77\n",
      "59 79\n",
      "60 68\n",
      "61 76\n",
      "62 86\n",
      "63 75\n",
      "64 75\n",
      "65 69\n",
      "66 80\n",
      "67 80\n",
      "68 77\n",
      "69 78\n",
      "70 76\n",
      "71 79\n",
      "72 75\n",
      "73 81\n",
      "74 82\n",
      "75 81\n",
      "76 69\n",
      "77 76\n",
      "78 79\n",
      "79 58\n",
      "80 72\n",
      "81 71\n",
      "82 79\n",
      "83 77\n",
      "84 76\n",
      "85 74\n",
      "86 78\n",
      "87 78\n",
      "88 69\n",
      "89 78\n",
      "90 78\n",
      "91 76\n",
      "92 80\n",
      "93 76\n",
      "94 74\n",
      "95 74\n",
      "96 84\n",
      "97 79\n",
      "98 69\n",
      "99 71\n",
      "100 108\n",
      "101 121\n",
      "102 113\n",
      "103 115\n",
      "104 118\n",
      "105 118\n",
      "106 105\n",
      "107 112\n",
      "108 125\n",
      "109 101\n",
      "110 110\n",
      "111 114\n",
      "112 118\n",
      "113 108\n",
      "114 116\n",
      "115 114\n",
      "116 114\n",
      "117 106\n",
      "118 115\n",
      "119 119\n",
      "120 100\n",
      "121 107\n",
      "122 101\n",
      "123 107\n",
      "124 123\n",
      "125 112\n",
      "126 108\n",
      "127 114\n",
      "128 113\n",
      "129 114\n",
      "130 115\n",
      "131 113\n",
      "132 117\n",
      "133 117\n",
      "134 110\n",
      "135 111\n",
      "136 108\n",
      "137 119\n",
      "138 110\n",
      "139 110\n",
      "140 111\n",
      "141 112\n",
      "142 121\n",
      "143 114\n",
      "144 113\n",
      "145 108\n",
      "146 93\n",
      "147 114\n",
      "148 109\n",
      "149 117\n",
      "150 84\n",
      "151 85\n",
      "152 88\n",
      "153 78\n",
      "154 84\n",
      "155 81\n",
      "156 82\n",
      "157 75\n",
      "158 80\n",
      "159 70\n",
      "160 78\n",
      "161 83\n",
      "162 74\n",
      "163 68\n",
      "164 67\n",
      "165 74\n",
      "166 83\n",
      "167 67\n",
      "168 82\n",
      "169 76\n",
      "170 78\n",
      "171 82\n",
      "172 64\n",
      "173 65\n",
      "174 83\n",
      "175 76\n",
      "176 80\n",
      "177 73\n",
      "178 75\n",
      "179 79\n",
      "180 78\n",
      "181 73\n",
      "182 80\n",
      "183 82\n",
      "184 75\n",
      "185 68\n",
      "186 80\n",
      "187 76\n",
      "188 78\n",
      "189 84\n",
      "190 80\n",
      "191 87\n",
      "192 81\n",
      "193 84\n",
      "194 71\n",
      "195 71\n",
      "196 81\n",
      "197 73\n",
      "198 75\n",
      "199 74\n"
     ]
    }
   ],
   "source": [
    "for i in range(len(df['description'])):\n",
    "    print(i, len(df['description'].iloc[i].split(\" \")))"
   ]
  },
  {
   "cell_type": "code",
   "execution_count": 17,
   "metadata": {},
   "outputs": [
    {
     "name": "stdout",
     "output_type": "stream",
     "text": [
      "laptop].\n",
      "vase].\n",
      "[backrest].\n",
      "racket].\n",
      "camera].\n",
      "camera].\n",
      "hair].\n",
      "right].\n",
      "floor].\n",
      "window].\n",
      "surface].\n",
      "it].\n",
      "Sahara].\n",
      "table].\n",
      "ant].\n",
      "performance].\n",
      "organ].\n",
      "[upwards].\n",
      "outwards].\n",
      "surface].\n",
      "shoulders].\n",
      "background].\n",
      "alley].\n",
      "side].\n",
      "other].\n",
      "sign].\n",
      "angle].\n",
      "desk].\n",
      "water].\n",
      "anticipation].\n",
      "ball].\n",
      "desk].\n",
      "image].\n",
      "[swimming].\n",
      "Spades].\n",
      "prank].\n",
      "half].\n",
      "shoulders].\n",
      "face].\n",
      "[genders].\n",
      "[tees].\n",
      "[2000].\n",
      "upwards].\n",
      "counter].\n",
      "[grass].\n",
      "[side].\n",
      "[jam].\n",
      "[sidewalk].\n",
      "[camera].\n",
      "shoulder].\n",
      "[behind].\n",
      "[camera].\n",
      "bicycles].\n",
      "[rope].\n",
      "[boat].\n",
      "[bicycles].\n",
      "[bicycle].\n",
      "[water].\n",
      "[white].\n",
      "[hands].\n",
      "[right].\n",
      "[extended].\n",
      "[beard].\n",
      "[holding].\n",
      "elevated].\n",
      "left].\n",
      "[him].\n",
      "[banana].\n",
      "(CHF)].\n",
      "[circle].\n",
      "white].\n",
      "[stone].\n",
      "individuals].\n",
      "hand].\n",
      "clarinets].\n",
      "[piano].\n",
      "celebration].\n",
      "three].\n"
     ]
    }
   ],
   "source": [
    "_ = df['hallucinations'].apply(dot_in_hal)"
   ]
  },
  {
   "cell_type": "code",
   "execution_count": 18,
   "metadata": {},
   "outputs": [
    {
     "name": "stdout",
     "output_type": "stream",
     "text": [
      "1     326\n",
      "2      54\n",
      "3      30\n",
      "4      22\n",
      "5      14\n",
      "6      11\n",
      "8       6\n",
      "9       5\n",
      "7       3\n",
      "13      2\n",
      "11      1\n",
      "15      1\n",
      "12      1\n",
      "18      1\n",
      "Name: count, dtype: int64\n"
     ]
    },
    {
     "data": {
      "text/plain": [
       "Index([  0,   1,   2,   3,   4,   5,   6,   7,   8,  10,\n",
       "       ...\n",
       "       177, 181, 182, 186, 187, 193, 194, 196, 197, 198],\n",
       "      dtype='int64', length=102)"
      ]
     },
     "execution_count": 18,
     "metadata": {},
     "output_type": "execute_result"
    }
   ],
   "source": [
    "df['hal_lens'] = df['hallucinations'].apply(extract_brackets_len)\n",
    "hal_lens = []\n",
    "for len_list in df['hal_lens'].values:\n",
    "    hal_lens.extend(len_list)\n",
    "\n",
    "print(pd.Series(hal_lens).value_counts())\n",
    "\n",
    "def is_max_greater_than_2(lst):\n",
    "    if len(lst) == 0:\n",
    "        return False\n",
    "    return max(lst) >= 2\n",
    "\n",
    "df[df['hal_lens'].apply(is_max_greater_than_2)].index"
   ]
  },
  {
   "cell_type": "code",
   "execution_count": null,
   "metadata": {},
   "outputs": [],
   "source": []
  }
 ],
 "metadata": {
  "kernelspec": {
   "display_name": "dpml_env",
   "language": "python",
   "name": "python3"
  },
  "language_info": {
   "codemirror_mode": {
    "name": "ipython",
    "version": 3
   },
   "file_extension": ".py",
   "mimetype": "text/x-python",
   "name": "python",
   "nbconvert_exporter": "python",
   "pygments_lexer": "ipython3",
   "version": "3.10.14"
  }
 },
 "nbformat": 4,
 "nbformat_minor": 2
}
