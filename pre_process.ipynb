{
 "cells": [
  {
   "cell_type": "code",
   "execution_count": 1,
   "metadata": {},
   "outputs": [],
   "source": [
    "import pandas as pd\n",
    "import numpy as np\n",
    "from PIL import Image\n",
    "import requests\n",
    "import torch\n",
    "import re\n",
    "import ast\n",
    "import seaborn as sns\n",
    "import matplotlib.pyplot as plt\n",
    "from scipy.stats import pearsonr, spearmanr"
   ]
  },
  {
   "cell_type": "code",
   "execution_count": 2,
   "metadata": {},
   "outputs": [],
   "source": [
    "df4 = pd.read_pickle(\"/home/student/HallucinationsLLM/data/team4_df.pkl\")\n",
    "df5 = pd.read_excel(\"/home/student/HallucinationsLLM/data/team5_clean_dataset.xlsx\", index_col=0)"
   ]
  },
  {
   "cell_type": "code",
   "execution_count": 3,
   "metadata": {},
   "outputs": [
    {
     "data": {
      "text/plain": [
       "['https://cdn.pixabay.com/photo/2016/11/29/05/26/beach-1867524_1280.jpg',\n",
       " 'https://cdn.pixabay.com/photo/2016/11/18/13/23/action-1834465_1280.jpg',\n",
       " 'https://cdn.pixabay.com/photo/2019/11/29/08/34/space-4660847_1280.jpg']"
      ]
     },
     "execution_count": 3,
     "metadata": {},
     "output_type": "execute_result"
    }
   ],
   "source": [
    "image_overlap = list(set(df4.index).intersection(df5['image_link']))\n",
    "image_overlap"
   ]
  },
  {
   "cell_type": "code",
   "execution_count": 4,
   "metadata": {},
   "outputs": [],
   "source": [
    "def get_max_key_value(d):\n",
    "    if d:\n",
    "        max_key = max(d, key=d.get)\n",
    "        return max_key, d[max_key]\n",
    "    else:\n",
    "        return None, None\n",
    "\n",
    "def process_df4(df):\n",
    "    df['hallucinations'].fillna(df['hillucination_text'], inplace=True)\n",
    "    df = df.drop('hillucination_text', axis=1)\n",
    "    df['image_link'] = df.index\n",
    "    df = df.reset_index(drop=True)\n",
    "    for i in range(1,5):\n",
    "        df[[f'pred_{i}', f'pred_{i}_prob']] = df[f'pred_{i}'].apply(lambda x: pd.Series(get_max_key_value(x)))\n",
    "    \n",
    "    df.rename(columns={'text': 'description', 'generated_logits': 'logits'}, inplace=True)\n",
    "    df['temperature'] = 0.7\n",
    "    return df"
   ]
  },
  {
   "cell_type": "code",
   "execution_count": null,
   "metadata": {},
   "outputs": [],
   "source": [
    "df4 = process_df4(df4)\n",
    "df = pd.concat([df4, df5]).reset_index(drop=True)"
   ]
  },
  {
   "cell_type": "code",
   "execution_count": 4,
   "metadata": {},
   "outputs": [],
   "source": [
    "df = df5"
   ]
  },
  {
   "cell_type": "code",
   "execution_count": 17,
   "metadata": {},
   "outputs": [],
   "source": [
    "def validate_brackets(string):\n",
    "    counter = 0\n",
    "    for c in string: \n",
    "        if c == \"[\":\n",
    "            counter += 1 \n",
    "        elif c == \"]\":\n",
    "            counter -= 1\n",
    "        if counter < 0 or counter > 1:\n",
    "            return False \n",
    "    return True\n",
    "\n",
    "def validate_spaces(s):\n",
    "    if \"[\" not in s:\n",
    "        return True\n",
    "    matches = re.finditer(r'\\[.*?\\]', s)\n",
    "    for match in matches:\n",
    "        start, end = match.span()\n",
    "        # Check character before the match\n",
    "        if start > 0 and s[start - 1].isalpha():\n",
    "            return False\n",
    "        # Check character after the match\n",
    "        if end < len(s) and s[end].isalpha():\n",
    "            return False\n",
    "    return True\n",
    "\n",
    "def check(logits):\n",
    "    tokens = []\n",
    "    for token, _ in logits: \n",
    "        if \"<\" in token or \">\" in token:\n",
    "            tokens.append(token)\n",
    "    return list(set(tokens))\n",
    "\n",
    "\n",
    "def clean_text(text):\n",
    "    # Remove specific substrings\n",
    "    text = re.sub(r'<0x0A>', ' ', text)\n",
    "    text = re.sub(r'</s>', '', text)\n",
    "    # Remove any other unwanted patterns (adjust the regex if needed)\n",
    "    text = re.sub(r'<[^>]*>', '', text)\n",
    "    return text.strip()\n",
    "\n",
    "def count_words(text):\n",
    "    words = text.split()\n",
    "    return len(words)\n",
    "\n",
    "def extract_brackets_len(text):\n",
    "    lens = []\n",
    "    cleaned_text = clean_text(text)\n",
    "    words = cleaned_text.split()\n",
    "    for i, word in enumerate(words):\n",
    "        if \"[\" in word:\n",
    "            counter = 0\n",
    "            for j in range(i, len(words)):\n",
    "                counter += 1\n",
    "                if \"]\" in words[j]:\n",
    "                    break\n",
    "            lens.append(counter)\n",
    "    return lens\n",
    "\n",
    "def dot_in_hal(text):\n",
    "    lens = []\n",
    "    cleaned_text = clean_text(text)\n",
    "    words = cleaned_text.split()\n",
    "    for i, word in enumerate(words):\n",
    "        if \"[\" in word:\n",
    "            counter = 0\n",
    "            for j in range(i, len(words)):\n",
    "                counter += 1\n",
    "                if \".\" in words[j]:\n",
    "                    print(words[j])\n",
    "                if \"]\" in words[j]:\n",
    "                    break\n",
    "            lens.append(counter)\n",
    "    return lens\n",
    "\n",
    "\n",
    "def count_brackets(string):\n",
    "    counter = 0\n",
    "    for c in string: \n",
    "        if c == \"[\":\n",
    "            counter += 1 \n",
    "    return counter\n",
    "\n",
    "\n",
    "def columns_compatibility(description, hallucinations, hedges, context1, context2, context3, context4):\n",
    "    text_set = set()\n",
    "    text_set.add(description.replace(\" \", \"\"))\n",
    "    text_set.add(hallucinations.replace(\"[\", \"\").replace(\"]\", \"\").replace(\" \", \"\"))\n",
    "    # text_set.add(hedges.replace(\"[\", \"\").replace(\"]\", \"\").replace(\" \", \"\"))\n",
    "    # text_set.add(context1.replace(\"[\", \"\").replace(\"]\", \"\").replace(\" \", \"\"))\n",
    "    # text_set.add(context2.replace(\"[\", \"\").replace(\"]\", \"\").replace(\" \", \"\"))\n",
    "    # text_set.add(context3.replace(\"[\", \"\").replace(\"]\", \"\").replace(\" \", \"\"))\n",
    "    # text_set.add(context4.replace(\"[\", \"\").replace(\"]\", \"\").replace(\" \", \"\"))\n",
    "    return len(text_set)"
   ]
  },
  {
   "cell_type": "code",
   "execution_count": 18,
   "metadata": {},
   "outputs": [
    {
     "data": {
      "text/plain": [
       "1      2\n",
       "2      2\n",
       "4      2\n",
       "5      2\n",
       "6      2\n",
       "7      2\n",
       "8      2\n",
       "9      2\n",
       "10     2\n",
       "11     2\n",
       "12     2\n",
       "13     2\n",
       "14     2\n",
       "15     2\n",
       "16     2\n",
       "17     2\n",
       "18     2\n",
       "30     2\n",
       "31     2\n",
       "32     2\n",
       "34     2\n",
       "35     2\n",
       "36     2\n",
       "37     2\n",
       "38     2\n",
       "39     2\n",
       "40     2\n",
       "41     2\n",
       "42     2\n",
       "43     2\n",
       "44     2\n",
       "45     2\n",
       "46     2\n",
       "47     2\n",
       "48     2\n",
       "49     2\n",
       "100    2\n",
       "103    2\n",
       "126    2\n",
       "136    2\n",
       "137    2\n",
       "dtype: int64"
      ]
     },
     "execution_count": 18,
     "metadata": {},
     "output_type": "execute_result"
    }
   ],
   "source": [
    "rows_compatibilty = df.apply(lambda row: columns_compatibility(row['description'], row['hallucinations'], row['hedges'], row['context_1'], row['context_2'], row['context_3'], row['context_4']), axis=1)\n",
    "rows_compatibilty[rows_compatibilty != 1]"
   ]
  },
  {
   "cell_type": "code",
   "execution_count": 6,
   "metadata": {},
   "outputs": [
    {
     "data": {
      "text/plain": [
       "Index([7, 18, 24, 56, 126], dtype='int64')"
      ]
     },
     "execution_count": 6,
     "metadata": {},
     "output_type": "execute_result"
    }
   ],
   "source": [
    "a = df['hallucinations'].apply(count_brackets)\n",
    "a[a == 0].index"
   ]
  },
  {
   "cell_type": "code",
   "execution_count": 7,
   "metadata": {},
   "outputs": [],
   "source": [
    "cols_with_brackets = ['hallucinations', 'hedges', 'context_1', 'context_2', 'context_3', 'context_4']\n",
    "for col in cols_with_brackets:\n",
    "    validation_result = df[col].apply(lambda x: validate_brackets(x))\n",
    "    passed_num = validation_result.astype(int).sum() \n",
    "    valid_spaces = df[col].apply(validate_spaces)\n",
    "    valid_space_num = valid_spaces.astype(int).sum() \n",
    "    if 'context' in col:\n",
    "        brackets_count = df[col].apply(count_brackets)\n",
    "        zero_brackets = brackets_count[brackets_count == 0]\n",
    "        if len(zero_brackets) > 0:\n",
    "            print(f\"{col} has zero brackets: {zero_brackets.index.tolist()}\")\n",
    "    if passed_num != len(df):\n",
    "        print(f\"{col} validation test failed: {passed_num}\")\n",
    "        print(\"indexes\", validation_result[validation_result == False].index.tolist())\n",
    "    if valid_space_num != len(df):\n",
    "        print(f\"{col} space test failed: {valid_space_num}\")\n",
    "        print(\"indexes\", valid_spaces[valid_spaces == False].index.tolist())"
   ]
  },
  {
   "cell_type": "code",
   "execution_count": 8,
   "metadata": {},
   "outputs": [
    {
     "data": {
      "text/plain": [
       "{' <', '.<', '</s>', '>', '><'}"
      ]
     },
     "execution_count": 8,
     "metadata": {},
     "output_type": "execute_result"
    }
   ],
   "source": [
    "df['logits'] = df['logits'].apply(lambda x: ast.literal_eval(x))\n",
    "lst = df['logits'].apply(check).tolist()\n",
    "flattened_list = [item for sublist in lst for item in sublist]\n",
    "set(flattened_list)"
   ]
  },
  {
   "cell_type": "code",
   "execution_count": 8,
   "metadata": {},
   "outputs": [
    {
     "name": "stdout",
     "output_type": "stream",
     "text": [
      "[group].\n",
      "dogs].\n",
      "[back].\n",
      "[frisbee].\n",
      "[frisbee].\n",
      "[arms].\n",
      "[seated].\n",
      "[water].\n",
      "ball].\n",
      "[rain].\n",
      "conditions].\n",
      "bowl].\n",
      "[nose].\n",
      "positions].\n",
      "[backpack].\n",
      "musician].\n",
      "[dishes].\n",
      "[rice].\n",
      "[bench].\n",
      "riders].\n",
      "[runway].\n",
      "[paintbrush].\n",
      "[airplane].\n",
      "air].\n",
      "fruits].\n",
      "open].\n",
      "cups].\n",
      "space].\n",
      "[kneeling].\n",
      "[boys].\n",
      "table].\n",
      "[backpacks].\n",
      "witch].\n",
      "light].\n",
      "[road].\n",
      "edge].\n",
      "furniture].\n",
      "[upwards].\n",
      "[ball].\n",
      "windows].\n",
      "[wallpaper].\n",
      "[turn].\n",
      "controller].\n",
      "bowls].\n",
      "fish].\n",
      "wrist].\n",
      "[flags].\n",
      "dishes].\n",
      "[pedestrians].\n",
      "[wall].\n",
      "road].\n",
      "phone].\n",
      "turned].\n"
     ]
    }
   ],
   "source": [
    "_ = df['hallucinations'].apply(dot_in_hal)"
   ]
  },
  {
   "cell_type": "code",
   "execution_count": 9,
   "metadata": {},
   "outputs": [
    {
     "name": "stdout",
     "output_type": "stream",
     "text": [
      "1     348\n",
      "2      60\n",
      "3      22\n",
      "4      15\n",
      "5       7\n",
      "9       4\n",
      "8       2\n",
      "7       2\n",
      "13      1\n",
      "6       1\n",
      "Name: count, dtype: int64\n"
     ]
    },
    {
     "data": {
      "text/plain": [
       "Index([  1,   3,  13,  14,  32,  33,  36,  41,  43,  44,  45,  50,  51,  53,\n",
       "        54,  58,  59,  60,  61,  64,  65,  66,  68,  69,  70,  72,  74,  75,\n",
       "        77,  78,  79,  81,  82,  84,  85,  87,  88,  89,  90,  91,  92,  93,\n",
       "        94,  97,  99, 103, 104, 105, 107, 108, 110, 111, 112, 113, 114, 117,\n",
       "       119, 120, 123, 124, 129, 130, 131, 132, 133, 134, 135, 136, 138, 139,\n",
       "       140, 143, 145, 147],\n",
       "      dtype='int64')"
      ]
     },
     "execution_count": 9,
     "metadata": {},
     "output_type": "execute_result"
    }
   ],
   "source": [
    "df['hal_lens'] = df['hallucinations'].apply(extract_brackets_len)\n",
    "hal_lens = []\n",
    "for len_list in df['hal_lens'].values:\n",
    "    hal_lens.extend(len_list)\n",
    "\n",
    "print(pd.Series(hal_lens).value_counts())\n",
    "\n",
    "def is_max_greater_than_2(lst):\n",
    "    if len(lst) == 0:\n",
    "        return False\n",
    "    return max(lst) >= 2\n",
    "\n",
    "df[df['hal_lens'].apply(is_max_greater_than_2)].index"
   ]
  },
  {
   "cell_type": "code",
   "execution_count": null,
   "metadata": {},
   "outputs": [],
   "source": []
  }
 ],
 "metadata": {
  "kernelspec": {
   "display_name": "dpml_env",
   "language": "python",
   "name": "python3"
  },
  "language_info": {
   "codemirror_mode": {
    "name": "ipython",
    "version": 3
   },
   "file_extension": ".py",
   "mimetype": "text/x-python",
   "name": "python",
   "nbconvert_exporter": "python",
   "pygments_lexer": "ipython3",
   "version": "3.10.14"
  }
 },
 "nbformat": 4,
 "nbformat_minor": 2
}
