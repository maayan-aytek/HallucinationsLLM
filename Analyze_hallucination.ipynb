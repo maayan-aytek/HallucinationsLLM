{
 "cells": [
  {
   "cell_type": "code",
   "execution_count": 1,
   "metadata": {},
   "outputs": [
    {
     "name": "stderr",
     "output_type": "stream",
     "text": [
      "/anaconda/envs/dpml_env/lib/python3.10/site-packages/tqdm/auto.py:21: TqdmWarning: IProgress not found. Please update jupyter and ipywidgets. See https://ipywidgets.readthedocs.io/en/stable/user_install.html\n",
      "  from .autonotebook import tqdm as notebook_tqdm\n"
     ]
    }
   ],
   "source": [
    "import pandas as pd\n",
    "import numpy as np\n",
    "from PIL import Image\n",
    "import requests\n",
    "import torch\n",
    "import re\n",
    "import seaborn as sns\n",
    "import matplotlib.pyplot as plt\n",
    "from scipy.stats import pearsonr, spearmanr\n",
    "from transformers import (BitsAndBytesConfig, AutoProcessor,\n",
    "                          LlavaForConditionalGeneration, GenerationConfig)"
   ]
  },
  {
   "cell_type": "code",
   "execution_count": 14,
   "metadata": {},
   "outputs": [],
   "source": [
    "df4 = pd.read_pickle(\"/home/student/HallucinationsLLM/df.pkl\")\n",
    "df5 = pd.read_excel(\"/home/student/HallucinationsLLM/team5_clean_dataset.xlsx\", index_col=0)"
   ]
  },
  {
   "cell_type": "code",
   "execution_count": 3,
   "metadata": {},
   "outputs": [],
   "source": [
    "image_overlap = list(set(df4.index).intersection(df5['image_link']))"
   ]
  },
  {
   "cell_type": "code",
   "execution_count": 32,
   "metadata": {},
   "outputs": [],
   "source": [
    "def get_max_key_value(d):\n",
    "    if d:\n",
    "        max_key = max(d, key=d.get)\n",
    "        return max_key, d[max_key]\n",
    "    else:\n",
    "        return None, None\n",
    "\n",
    "def process_df4(df):\n",
    "    df['hallucinations'].fillna(df['hillucination_text'], inplace=True)\n",
    "    df = df.drop('hillucination_text', axis=1)\n",
    "    df['image_link'] = df.index\n",
    "    df = df.reset_index(drop=True)\n",
    "    for i in range(1,5):\n",
    "        df[[f'pred_{i}', f'pred_{i}_prob']] = df[f'pred_{i}'].apply(lambda x: pd.Series(get_max_key_value(x)))\n",
    "    \n",
    "    df.rename(columns={'text': 'description', 'generated_logits': 'logits'}, inplace=True)\n",
    "    df['temperature'] = 0.7\n",
    "    return df"
   ]
  },
  {
   "cell_type": "code",
   "execution_count": 33,
   "metadata": {},
   "outputs": [
    {
     "ename": "NameError",
     "evalue": "name 'process_df4' is not defined",
     "output_type": "error",
     "traceback": [
      "\u001b[0;31m---------------------------------------------------------------------------\u001b[0m",
      "\u001b[0;31mNameError\u001b[0m                                 Traceback (most recent call last)",
      "Cell \u001b[0;32mIn[33], line 1\u001b[0m\n\u001b[0;32m----> 1\u001b[0m df4 \u001b[38;5;241m=\u001b[39m \u001b[43mprocess_df4\u001b[49m(df4)\n\u001b[1;32m      2\u001b[0m df \u001b[38;5;241m=\u001b[39m pd\u001b[38;5;241m.\u001b[39mconcat([df4, df5])\u001b[38;5;241m.\u001b[39mreset_index(drop\u001b[38;5;241m=\u001b[39m\u001b[38;5;28;01mTrue\u001b[39;00m)\n",
      "\u001b[0;31mNameError\u001b[0m: name 'process_df4' is not defined"
     ]
    }
   ],
   "source": [
    "df4 = process_df4(df4)\n",
    "df = pd.concat([df4, df5]).reset_index(drop=True)"
   ]
  },
  {
   "cell_type": "code",
   "execution_count": 15,
   "metadata": {},
   "outputs": [],
   "source": [
    "df = df5"
   ]
  },
  {
   "cell_type": "code",
   "execution_count": 2,
   "metadata": {},
   "outputs": [
    {
     "name": "stderr",
     "output_type": "stream",
     "text": [
      "/anaconda/envs/dpml_env/lib/python3.10/site-packages/huggingface_hub/file_download.py:1132: FutureWarning: `resume_download` is deprecated and will be removed in version 1.0.0. Downloads always resume when possible. If you want to force a new download, use `force_download=True`.\n",
      "  warnings.warn(\n"
     ]
    },
    {
     "name": "stderr",
     "output_type": "stream",
     "text": [
      "Loading checkpoint shards: 100%|██████████| 3/3 [00:04<00:00,  1.37s/it]\n",
      "/anaconda/envs/dpml_env/lib/python3.10/site-packages/huggingface_hub/file_download.py:1132: FutureWarning: `resume_download` is deprecated and will be removed in version 1.0.0. Downloads always resume when possible. If you want to force a new download, use `force_download=True`.\n",
      "  warnings.warn(\n",
      "Special tokens have been added in the vocabulary, make sure the associated word embeddings are fine-tuned or trained.\n"
     ]
    }
   ],
   "source": [
    "model_name = 'llava-hf/llava-1.5-7b-hf'\n",
    "quantization_config = BitsAndBytesConfig(load_in_4bit=True,\n",
    "                                         bnb_4bit_compute_dtype=torch.bfloat16)\n",
    "\n",
    "model = LlavaForConditionalGeneration.from_pretrained(model_name,\n",
    "                                                      quantization_config=quantization_config)\n",
    "processor = AutoProcessor.from_pretrained(model_name)"
   ]
  },
  {
   "cell_type": "markdown",
   "metadata": {},
   "source": [
    "## Load Data"
   ]
  },
  {
   "cell_type": "markdown",
   "metadata": {},
   "source": [
    "## EDA"
   ]
  },
  {
   "cell_type": "code",
   "execution_count": 16,
   "metadata": {},
   "outputs": [],
   "source": [
    "def validate_brackets(string):\n",
    "    counter = 0\n",
    "    for c in string: \n",
    "        if c == \"[\":\n",
    "            counter += 1 \n",
    "        elif c == \"]\":\n",
    "            counter -= 1\n",
    "        if counter < 0 or counter > 1:\n",
    "            return False \n",
    "    return True"
   ]
  },
  {
   "cell_type": "code",
   "execution_count": 17,
   "metadata": {},
   "outputs": [],
   "source": [
    "def count_brackets(string):\n",
    "    counter = 0\n",
    "    for c in string: \n",
    "        if c == \"[\":\n",
    "            counter += 1 \n",
    "    return counter"
   ]
  },
  {
   "cell_type": "code",
   "execution_count": 18,
   "metadata": {},
   "outputs": [],
   "source": [
    "def validate_spaces(s):\n",
    "    if \"[\" not in s:\n",
    "        return True\n",
    "    matches = re.finditer(r'\\[.*?\\]', s)\n",
    "    for match in matches:\n",
    "        start, end = match.span()\n",
    "        # Check character before the match\n",
    "        if start > 0 and s[start - 1].isalpha():\n",
    "            return False\n",
    "        # Check character after the match\n",
    "        if end < len(s) and s[end].isalpha():\n",
    "            return False\n",
    "    return True"
   ]
  },
  {
   "cell_type": "code",
   "execution_count": 19,
   "metadata": {},
   "outputs": [],
   "source": [
    "cols_with_brackets = ['hallucinations', 'hedges', 'context_1', 'context_2', 'context_3', 'context_4']\n",
    "for col in cols_with_brackets:\n",
    "    validation_result = df[col].apply(lambda x: validate_brackets(x))\n",
    "    passed_num = validation_result.astype(int).sum() \n",
    "    valid_spaces = df[col].apply(validate_spaces)\n",
    "    valid_space_num = valid_spaces.astype(int).sum() \n",
    "    if passed_num != len(df):\n",
    "        print(f\"{col} validation test failed: {passed_num}\")\n",
    "        print(\"indexes\", validation_result[validation_result == False].index.tolist())\n",
    "    if valid_space_num != len(df):\n",
    "        print(f\"{col} space test failed: {valid_space_num}\")\n",
    "        print(\"indexes\", valid_spaces[valid_spaces == False].index.tolist())"
   ]
  },
  {
   "cell_type": "code",
   "execution_count": 20,
   "metadata": {},
   "outputs": [],
   "source": [
    "cols_with_brackets = ['hallucinations', 'hedges', 'context_1', 'context_2', 'context_3', 'context_4']\n",
    "for col in cols_with_brackets:\n",
    "    df[f'{col}_count'] = df[col].apply(lambda x: count_brackets(x))"
   ]
  },
  {
   "cell_type": "code",
   "execution_count": 21,
   "metadata": {},
   "outputs": [
    {
     "data": {
      "text/plain": [
       "Text(0.5, 1.0, '#Hallucinations Distriubtion')"
      ]
     },
     "execution_count": 21,
     "metadata": {},
     "output_type": "execute_result"
    },
    {
     "data": {
      "image/png": "[encoded data removed]",
      "text/plain": [
       "<Figure size 640x480 with 1 Axes>"
      ]
     },
     "metadata": {},
     "output_type": "display_data"
    }
   ],
   "source": [
    "sns.histplot(data=df, x='hallucinations_count', bins=9)\n",
    "plt.title(\"#Hallucinations Distriubtion\")"
   ]
  },
  {
   "cell_type": "code",
   "execution_count": 22,
   "metadata": {},
   "outputs": [],
   "source": [
    "import re\n",
    "import ast\n",
    "def clean_text(text):\n",
    "    # Remove specific substrings\n",
    "    text = re.sub(r'<0x0A>', ' ', text)\n",
    "    text = re.sub(r'</s>', '', text)\n",
    "    # Remove any other unwanted patterns (adjust the regex if needed)\n",
    "    text = re.sub(r'<[^>]*>', '', text)\n",
    "    return text.strip()\n",
    "\n",
    "def count_words(text):\n",
    "    words = text.split()\n",
    "    return len(words)\n",
    "\n",
    "\n",
    "def first_brackets_index(text):\n",
    "    cleaned_text = clean_text(text)\n",
    "    words = cleaned_text.split()\n",
    "    for i, word in enumerate(words):\n",
    "        if \"[\" in word:\n",
    "            return i / len(words)\n",
    "    return -1 \n",
    "\n",
    "def extract_brackets_len(text):\n",
    "    lens = []\n",
    "    cleaned_text = clean_text(text)\n",
    "    words = cleaned_text.split()\n",
    "    for i, word in enumerate(words):\n",
    "        if \"[\" in word:\n",
    "            counter = 0\n",
    "            for j in range(i, len(words)):\n",
    "                counter += 1\n",
    "                if \"]\" in words[j]:\n",
    "                    break\n",
    "            lens.append(counter)\n",
    "    return lens\n",
    "\n",
    "def get_words_dist(description, logits):\n",
    "    cleaned_text = clean_text(description)\n",
    "    words = cleaned_text.split()\n",
    "    probs = {}\n",
    "    print(len(words), len(logits))\n",
    "    assert len(words) == len(logits)\n",
    "    for word, prob_dict in zip(words, logits):\n",
    "        probs[word] = prob_dict[word]\n",
    "    return probs\n",
    "\n",
    "df['logits'] = df['logits'].apply(lambda x: ast.literal_eval(x))\n",
    "df['clean_description'] = df['description'].apply(clean_text)\n",
    "df['description_len'] = df['clean_description'].apply(count_words)\n",
    "df['first_hal_index'] = df['hallucinations'].apply(first_brackets_index)\n",
    "df['hal_lens'] = df['hallucinations'].apply(extract_brackets_len)"
   ]
  },
  {
   "cell_type": "code",
   "execution_count": 23,
   "metadata": {},
   "outputs": [
    {
     "name": "stdout",
     "output_type": "stream",
     "text": [
      "1     353\n",
      "2      60\n",
      "3      23\n",
      "4      14\n",
      "5       7\n",
      "9       4\n",
      "8       2\n",
      "7       2\n",
      "13      1\n",
      "6       1\n",
      "Name: count, dtype: int64\n"
     ]
    },
    {
     "data": {
      "text/plain": [
       "Index([  1,   3,  13,  14,  32,  33,  36,  41,  43,  44,  45,  50,  51,  53,\n",
       "        54,  58,  59,  60,  61,  64,  65,  66,  68,  69,  70,  72,  74,  75,\n",
       "        77,  78,  79,  81,  82,  84,  85,  87,  88,  89,  90,  91,  92,  93,\n",
       "        94,  97,  99, 103, 104, 105, 107, 108, 110, 111, 112, 113, 114, 117,\n",
       "       119, 120, 123, 124, 129, 130, 131, 132, 133, 134, 135, 136, 138, 139,\n",
       "       140, 143, 145, 147],\n",
       "      dtype='int64')"
      ]
     },
     "execution_count": 23,
     "metadata": {},
     "output_type": "execute_result"
    }
   ],
   "source": [
    "hal_lens = []\n",
    "for len_list in df['hal_lens'].values:\n",
    "    hal_lens.extend(len_list)\n",
    "\n",
    "print(pd.Series(hal_lens).value_counts())\n",
    "\n",
    "def is_max_greater_than_2(lst):\n",
    "    if len(lst) == 0:\n",
    "        return False\n",
    "    return max(lst) >= 2\n",
    "\n",
    "df[df['hal_lens'].apply(is_max_greater_than_2)].index"
   ]
  },
  {
   "cell_type": "code",
   "execution_count": 24,
   "metadata": {},
   "outputs": [],
   "source": [
    "def logits_len_1(logits):\n",
    "    one_logit = []\n",
    "    for word, probs in logits:\n",
    "        if len(probs) == 1: \n",
    "            one_logit.append(word)\n",
    "    return one_logit"
   ]
  },
  {
   "cell_type": "code",
   "execution_count": 25,
   "metadata": {},
   "outputs": [],
   "source": [
    "df['one_logit'] = df['logits'].apply(lambda x: logits_len_1(x))"
   ]
  },
  {
   "cell_type": "code",
   "execution_count": 26,
   "metadata": {},
   "outputs": [
    {
     "data": {
      "text/plain": [
       "0      [ict, s, ively, ant, ying, ust, ling, ous,  of...\n",
       "1      [ust, ling, ids, ably, s, x, ed, ulated, est, ...\n",
       "2      [m, in, is, cent,  of,  R, ings, cess, aring, ...\n",
       "3      [ict, s, zy,  by, ed, ying, x, ps, ls, s,  be,...\n",
       "4                     [ict, s, ry,  of, cape,  of,  the]\n",
       "                             ...                        \n",
       "145    [ict, s, ining,  of,  them,  of, ps, ps, x, ,,...\n",
       "146    [iding, icy, cle, er, icy, cle,  the,  be, ott...\n",
       "147               [ures, x, ire, all, ,, ve, ys, coming]\n",
       "148            [ress, es, ments, ress,  of, c, asing, .]\n",
       "149    [ray, s,  of, aring, ed, cks, ers, x,  of, ati...\n",
       "Name: one_logit, Length: 150, dtype: object"
      ]
     },
     "execution_count": 26,
     "metadata": {},
     "output_type": "execute_result"
    }
   ],
   "source": [
    "df['one_logit']"
   ]
  },
  {
   "cell_type": "code",
   "execution_count": 27,
   "metadata": {},
   "outputs": [
    {
     "data": {
      "text/plain": [
       "Text(0.5, 1.0, 'First Hallucination normalized Location Distribution')"
      ]
     },
     "execution_count": 27,
     "metadata": {},
     "output_type": "execute_result"
    },
    {
     "data": {
      "image/png": "[encoded data removed]",
      "text/plain": [
       "<Figure size 640x480 with 1 Axes>"
      ]
     },
     "metadata": {},
     "output_type": "display_data"
    }
   ],
   "source": [
    "filtered_df = df[df['first_hal_index'] != -1]\n",
    "sns.histplot(data=filtered_df, x='first_hal_index', bins=10)\n",
    "plt.title(\"First Hallucination normalized Location Distribution\")"
   ]
  },
  {
   "cell_type": "code",
   "execution_count": 28,
   "metadata": {},
   "outputs": [
    {
     "data": {
      "text/plain": [
       "PearsonRResult(statistic=np.float64(0.2927831185409878), pvalue=np.float64(0.00027706021284601347))"
      ]
     },
     "execution_count": 28,
     "metadata": {},
     "output_type": "execute_result"
    }
   ],
   "source": [
    "pearsonr(df['description_len'], df['hallucinations_count'])"
   ]
  },
  {
   "cell_type": "code",
   "execution_count": 29,
   "metadata": {},
   "outputs": [
    {
     "data": {
      "text/plain": [
       "PearsonRResult(statistic=np.float64(0.09395551276018249), pvalue=np.float64(0.25278091444363826))"
      ]
     },
     "execution_count": 29,
     "metadata": {},
     "output_type": "execute_result"
    }
   ],
   "source": [
    "pearsonr(df['hedges_count'], df['hallucinations_count'])"
   ]
  },
  {
   "cell_type": "code",
   "execution_count": 30,
   "metadata": {},
   "outputs": [],
   "source": [
    "new_data = {\n",
    "    'probe_number': [],\n",
    "    'pred': [],\n",
    "    'label': [],\n",
    "    'prob': []\n",
    "}\n",
    "\n",
    "# Loop through each column group and append to new_data\n",
    "for i in range(1, 5):\n",
    "    new_data['probe_number'].extend([i] * len(df))\n",
    "    new_data['pred'].extend(df[f'pred_{i}'])\n",
    "    new_data['label'].extend(df[f'label_{i}'])\n",
    "    new_data['prob'].extend(df[f'pred_{i}_prob'])\n",
    "\n",
    "# Create the new DataFrame\n",
    "new_df = pd.DataFrame(new_data)\n",
    "new_df['correct_pred'] = (new_df['pred'] == new_df['label']).astype(int)\n",
    "correct_df = new_df[new_df['correct_pred'] == 1]\n",
    "wrong_df = new_df[new_df['correct_pred'] == 0]"
   ]
  },
  {
   "cell_type": "code",
   "execution_count": 31,
   "metadata": {},
   "outputs": [
    {
     "data": {
      "image/png": "[encoded data removed]",
      "text/plain": [
       "<Figure size 640x480 with 1 Axes>"
      ]
     },
     "metadata": {},
     "output_type": "display_data"
    }
   ],
   "source": [
    "sns.histplot(data=correct_df, x=\"prob\", kde=True, stat='probability', label=\"correct\", alpha=0.8)\n",
    "sns.histplot(data=wrong_df, x=\"prob\", kde=True, stat='probability', label=\"wrong\", alpha=0.8)\n",
    "plt.legend()\n",
    "plt.xlabel('Preds Model Probability')\n",
    "plt.ylabel('Ratio')\n",
    "plt.title(\"Preds Model Probability distribution\")\n",
    "plt.show()"
   ]
  },
  {
   "cell_type": "code",
   "execution_count": 32,
   "metadata": {},
   "outputs": [],
   "source": [
    "def map_words_logits(logits, description):\n",
    "    pattern = r'<0x0A>|</s>'\n",
    "    cleaned_description = re.sub(pattern, ' ', description)\n",
    "    cleaned_description = re.sub(r'\\s+', ' ', cleaned_description).strip()\n",
    "    words = cleaned_description.split(\" \")\n",
    "    words_logits_indices = []\n",
    "    idx = 0 \n",
    "    words_token = \"\"\n",
    "    idx_list = []\n",
    "    flag = False\n",
    "    for i, (token, prob_dict) in enumerate(logits):\n",
    "        if \">\" == token[-1]:\n",
    "            flag = False\n",
    "            continue\n",
    "        if \"<\" in token:\n",
    "            flag = True\n",
    "        if flag:\n",
    "            continue\n",
    "        \n",
    "        if token.strip() == \".\":\n",
    "            continue\n",
    "        if words[idx][-1] == \".\" and token.strip()[-1] != \".\":\n",
    "            word = words[idx][:-1]\n",
    "        else:\n",
    "            if \".\" in words[idx]: \n",
    "                print(words[idx])\n",
    "            word = words[idx]\n",
    "        # print(i, idx, token.strip(), word, words_token)\n",
    "        if token.strip() == word:\n",
    "            words_logits_indices.append((word.replace(\".\", \"\"), [i]))\n",
    "            idx += 1 \n",
    "        else:\n",
    "            words_token += token.strip()\n",
    "            idx_list.append(i)\n",
    "            if words_token == word:\n",
    "                words_logits_indices.append((word.replace(\".\", \"\"), idx_list))\n",
    "                words_token = \"\"\n",
    "                idx_list = []\n",
    "                idx += 1 \n",
    "    return words_logits_indices"
   ]
  },
  {
   "cell_type": "code",
   "execution_count": 33,
   "metadata": {},
   "outputs": [],
   "source": [
    "def check(logits):\n",
    "    tokens = []\n",
    "    for token, _ in logits: \n",
    "        if \"<\" in token or \">\" in token:\n",
    "            tokens.append(token)\n",
    "    return list(set(tokens))"
   ]
  },
  {
   "cell_type": "code",
   "execution_count": 34,
   "metadata": {},
   "outputs": [
    {
     "data": {
      "text/plain": [
       "{' <', '.<', '</s>', '>', '><'}"
      ]
     },
     "execution_count": 34,
     "metadata": {},
     "output_type": "execute_result"
    }
   ],
   "source": [
    "lst = df['logits'].apply(check).tolist()\n",
    "flattened_list = [item for sublist in lst for item in sublist]\n",
    "set(flattened_list)"
   ]
  },
  {
   "cell_type": "code",
   "execution_count": 35,
   "metadata": {},
   "outputs": [
    {
     "name": "stdout",
     "output_type": "stream",
     "text": [
      "coffee).\n"
     ]
    }
   ],
   "source": [
    "df['words_logits_mapping'] = df.apply(lambda row: map_words_logits(row['logits'], row['description']), axis=1)"
   ]
  },
  {
   "cell_type": "code",
   "execution_count": 36,
   "metadata": {},
   "outputs": [],
   "source": [
    "def dot_in_hal(text):\n",
    "    lens = []\n",
    "    cleaned_text = clean_text(text)\n",
    "    words = cleaned_text.split()\n",
    "    for i, word in enumerate(words):\n",
    "        if \"[\" in word:\n",
    "            counter = 0\n",
    "            for j in range(i, len(words)):\n",
    "                counter += 1\n",
    "                if \".\" in words[j]:\n",
    "                    print(words[j])\n",
    "                if \"]\" in words[j]:\n",
    "                    break\n",
    "            lens.append(counter)\n",
    "    return lens"
   ]
  },
  {
   "cell_type": "code",
   "execution_count": 37,
   "metadata": {},
   "outputs": [
    {
     "name": "stdout",
     "output_type": "stream",
     "text": [
      "[group].\n",
      "dogs].\n",
      "[back].\n",
      "[frisbee].\n",
      "[frisbee].\n",
      "[arms].\n",
      "[seated].\n",
      "[water].\n",
      "ball].\n",
      "[rain].\n",
      "conditions].\n",
      "bowl].\n",
      "[nose].\n",
      "positions].\n",
      "[backpack].\n",
      "musician].\n",
      "[dishes].\n",
      "[rice].\n",
      "[bench].\n",
      "[runway].\n",
      "[paintbrush].\n",
      "[airplane].\n",
      "air].\n",
      "fruits].\n",
      "open].\n",
      "cups].\n",
      "space].\n",
      "[kneeling].\n",
      "[boys].\n",
      "table].\n",
      "[backpacks].\n",
      "witch].\n",
      "light].\n",
      "[road].\n",
      "edge].\n",
      "furniture].\n",
      "[upwards].\n",
      "[ball].\n",
      "windows].\n",
      "[wallpaper].\n",
      "[turn].\n",
      "controller].\n",
      "bowls].\n",
      "fish].\n",
      "wrist].\n",
      "[flags].\n",
      "dishes].\n",
      "[pedestrians].\n",
      "[wall].\n",
      "road].\n",
      "phone].\n",
      "turned].\n"
     ]
    }
   ],
   "source": [
    "x = df['hallucinations'].apply(dot_in_hal)"
   ]
  },
  {
   "cell_type": "code",
   "execution_count": 38,
   "metadata": {},
   "outputs": [],
   "source": [
    "def get_in_out_indices(sentences):\n",
    "    results = []\n",
    "    for sentence in sentences:\n",
    "        in_indices = []\n",
    "        out_indices = []\n",
    "        words = sentence.split()\n",
    "        in_brackets = False\n",
    "        for i, word in enumerate(words):\n",
    "            if '[' in word:\n",
    "                in_brackets = True\n",
    "            if ']' in word:\n",
    "                in_brackets = False\n",
    "\n",
    "            if in_brackets or '[' in word or ']' in word:\n",
    "                in_indices.append(i)\n",
    "            else:\n",
    "                out_indices.append(i)\n",
    "        results.append({'in': in_indices, 'out': out_indices})\n",
    "    return results"
   ]
  },
  {
   "cell_type": "code",
   "execution_count": 39,
   "metadata": {},
   "outputs": [],
   "source": [
    "def extract_hals_probs(logits, words_logits_mapping, hallucinations):\n",
    "    pattern = r'<0x0A>|</s>'\n",
    "    cleaned_hallucinations = re.sub(pattern, ' ', hallucinations)\n",
    "    cleaned_hallucinations = re.sub(r'\\s+', ' ', cleaned_hallucinations).strip()\n",
    "    sentences = cleaned_hallucinations.split(\".\")[:-1]\n",
    "    in_out_probs_list = []\n",
    "    counter = 0 \n",
    "    in_out_indices = get_in_out_indices(sentences)\n",
    "    for in_out_dict, sentence in zip(in_out_indices, sentences): \n",
    "        words = sentence.split()\n",
    "        sentence_dict = {\"out\": {\"min\": None, \"max\": None, \"mean\": None}, \"in\": {\"min\": None, \"max\": None, \"mean\": None}}\n",
    "        # in part \n",
    "        in_indices = in_out_dict['in']\n",
    "        if len(in_indices) > 0:\n",
    "            in_probs = []\n",
    "            for j in in_indices:\n",
    "                try:\n",
    "                    word_item = words_logits_mapping[j + counter]\n",
    "                except:\n",
    "                    # print(logits)\n",
    "                    print(sentence)\n",
    "                    print(words[j])\n",
    "                    print(words_logits_mapping)\n",
    "                    print(len(words_logits_mapping), j + counter)\n",
    "                    return None\n",
    "                prob_idx = word_item[1][0]\n",
    "                prob = logits[prob_idx][1][logits[prob_idx][0].strip()]\n",
    "                in_probs.append(prob)\n",
    "            \n",
    "            sentence_dict[\"in\"][\"min\"] = min(in_probs)\n",
    "            sentence_dict[\"in\"][\"max\"] = max(in_probs)\n",
    "            sentence_dict[\"in\"][\"mean\"] = sum(in_probs) / len(in_probs)\n",
    "\n",
    "        # out part \n",
    "        out_indices = in_out_dict['out']\n",
    "        if len(out_indices) > 0:\n",
    "            out_probs = []\n",
    "            for j in out_indices:\n",
    "                try:\n",
    "                    word_item = words_logits_mapping[j + counter]\n",
    "                except:\n",
    "                    # print(logits)\n",
    "                    print(sentence)\n",
    "                    print(words[j])\n",
    "                    print(words_logits_mapping)\n",
    "                    print(len(words_logits_mapping), j + counter)\n",
    "                    return None\n",
    "                prob_idx = word_item[1][0]\n",
    "                prob = logits[prob_idx][1][logits[prob_idx][0].strip()]\n",
    "                out_probs.append(prob)\n",
    "            \n",
    "            sentence_dict[\"out\"][\"min\"] = min(out_probs)\n",
    "            sentence_dict[\"out\"][\"max\"] = max(out_probs)\n",
    "            sentence_dict[\"out\"][\"mean\"] = sum(out_probs) / len(out_probs)\n",
    "\n",
    "        counter += len(words)\n",
    "        in_out_probs_list.append(sentence_dict)\n",
    "    return in_out_probs_list"
   ]
  },
  {
   "cell_type": "code",
   "execution_count": 40,
   "metadata": {},
   "outputs": [],
   "source": [
    "df['in_out_probs'] = df.apply(lambda row: extract_hals_probs(row['logits'], row['words_logits_mapping'], row['hallucinations']), axis=1)"
   ]
  },
  {
   "cell_type": "code",
   "execution_count": 41,
   "metadata": {},
   "outputs": [
    {
     "data": {
      "text/plain": [
       "0      [{'out': {'min': 0.0053, 'max': 0.9803, 'mean'...\n",
       "1      [{'out': {'min': 0.0158, 'max': 0.9954, 'mean'...\n",
       "2      [{'out': {'min': 0.0062, 'max': 0.9999, 'mean'...\n",
       "3      [{'out': {'min': 0.1675, 'max': 0.9998, 'mean'...\n",
       "4      [{'out': {'min': 0.0184, 'max': 0.9999, 'mean'...\n",
       "                             ...                        \n",
       "145    [{'out': {'min': 0.0926, 'max': 0.9961, 'mean'...\n",
       "146    [{'out': {'min': 0.0121, 'max': 0.9575, 'mean'...\n",
       "147    [{'out': {'min': 0.0348, 'max': 0.9541, 'mean'...\n",
       "148    [{'out': {'min': 0.0018, 'max': 0.9147, 'mean'...\n",
       "149    [{'out': {'min': 0.0681, 'max': 0.9998, 'mean'...\n",
       "Name: in_out_probs, Length: 150, dtype: object"
      ]
     },
     "execution_count": 41,
     "metadata": {},
     "output_type": "execute_result"
    }
   ],
   "source": [
    "df['in_out_probs']"
   ]
  },
  {
   "cell_type": "code",
   "execution_count": null,
   "metadata": {},
   "outputs": [],
   "source": []
  }
 ],
 "metadata": {
  "kernelspec": {
   "display_name": "Python 3",
   "language": "python",
   "name": "python3"
  },
  "language_info": {
   "codemirror_mode": {
    "name": "ipython",
    "version": 3
   },
   "file_extension": ".py",
   "mimetype": "text/x-python",
   "name": "python",
   "nbconvert_exporter": "python",
   "pygments_lexer": "ipython3",
   "version": "3.10.14"
  }
 },
 "nbformat": 4,
 "nbformat_minor": 2
}
