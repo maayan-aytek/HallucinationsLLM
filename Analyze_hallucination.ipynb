{
 "cells": [
  {
   "cell_type": "code",
   "execution_count": 1,
   "metadata": {},
   "outputs": [
    {
     "name": "stderr",
     "output_type": "stream",
     "text": [
      "/anaconda/envs/dpml_env/lib/python3.10/site-packages/tqdm/auto.py:21: TqdmWarning: IProgress not found. Please update jupyter and ipywidgets. See https://ipywidgets.readthedocs.io/en/stable/user_install.html\n",
      "  from .autonotebook import tqdm as notebook_tqdm\n"
     ]
    }
   ],
   "source": [
    "import pandas as pd\n",
    "import numpy as np\n",
    "from PIL import Image\n",
    "import requests\n",
    "import torch\n",
    "import re\n",
    "import seaborn as sns\n",
    "import matplotlib.pyplot as plt\n",
    "from scipy.stats import pearsonr, spearmanr\n",
    "from transformers import (BitsAndBytesConfig, AutoProcessor,\n",
    "                          LlavaForConditionalGeneration, GenerationConfig)"
   ]
  },
  {
   "cell_type": "code",
   "execution_count": 2,
   "metadata": {},
   "outputs": [
    {
     "name": "stderr",
     "output_type": "stream",
     "text": [
      "/anaconda/envs/dpml_env/lib/python3.10/site-packages/huggingface_hub/file_download.py:1132: FutureWarning: `resume_download` is deprecated and will be removed in version 1.0.0. Downloads always resume when possible. If you want to force a new download, use `force_download=True`.\n",
      "  warnings.warn(\n"
     ]
    },
    {
     "name": "stderr",
     "output_type": "stream",
     "text": [
      "Loading checkpoint shards: 100%|██████████| 3/3 [00:04<00:00,  1.37s/it]\n",
      "/anaconda/envs/dpml_env/lib/python3.10/site-packages/huggingface_hub/file_download.py:1132: FutureWarning: `resume_download` is deprecated and will be removed in version 1.0.0. Downloads always resume when possible. If you want to force a new download, use `force_download=True`.\n",
      "  warnings.warn(\n",
      "Special tokens have been added in the vocabulary, make sure the associated word embeddings are fine-tuned or trained.\n"
     ]
    }
   ],
   "source": [
    "model_name = 'llava-hf/llava-1.5-7b-hf'\n",
    "quantization_config = BitsAndBytesConfig(load_in_4bit=True,\n",
    "                                         bnb_4bit_compute_dtype=torch.bfloat16)\n",
    "\n",
    "model = LlavaForConditionalGeneration.from_pretrained(model_name,\n",
    "                                                      quantization_config=quantization_config)\n",
    "processor = AutoProcessor.from_pretrained(model_name)"
   ]
  },
  {
   "cell_type": "markdown",
   "metadata": {},
   "source": [
    "## Load Data"
   ]
  },
  {
   "cell_type": "code",
   "execution_count": 2,
   "metadata": {},
   "outputs": [],
   "source": [
    "df = pd.read_excel(f'/home/student/HallucinationsLLM/result_data.xlsx', index_col=0)"
   ]
  },
  {
   "cell_type": "markdown",
   "metadata": {},
   "source": [
    "## EDA"
   ]
  },
  {
   "cell_type": "code",
   "execution_count": 3,
   "metadata": {},
   "outputs": [],
   "source": [
    "def validate_brackets(string):\n",
    "    counter = 0\n",
    "    for c in string: \n",
    "        if c == \"[\":\n",
    "            counter += 1 \n",
    "        elif c == \"]\":\n",
    "            counter -= 1\n",
    "        if counter < 0 or counter > 1:\n",
    "            return False \n",
    "    return True"
   ]
  },
  {
   "cell_type": "code",
   "execution_count": 4,
   "metadata": {},
   "outputs": [],
   "source": [
    "def count_brackets(string):\n",
    "    counter = 0\n",
    "    for c in string: \n",
    "        if c == \"[\":\n",
    "            counter += 1 \n",
    "    return counter"
   ]
  },
  {
   "cell_type": "code",
   "execution_count": 5,
   "metadata": {},
   "outputs": [],
   "source": [
    "cols_with_brackets = ['hallucinations', 'hedges', 'context_1', 'context_2', 'context_3', 'context_4']\n",
    "for col in cols_with_brackets:\n",
    "    validation_result = df[col].apply(lambda x: validate_brackets(x))\n",
    "    passed_num = validation_result.astype(int).sum() \n",
    "    if passed_num != 150:\n",
    "        print(f\"{col} validation test failed: {passed_num}\")"
   ]
  },
  {
   "cell_type": "code",
   "execution_count": 6,
   "metadata": {},
   "outputs": [],
   "source": [
    "cols_with_brackets = ['hallucinations', 'hedges', 'context_1', 'context_2', 'context_3', 'context_4']\n",
    "for col in cols_with_brackets:\n",
    "    df[f'{col}_count'] = df[col].apply(lambda x: count_brackets(x))"
   ]
  },
  {
   "cell_type": "code",
   "execution_count": 7,
   "metadata": {},
   "outputs": [
    {
     "data": {
      "text/plain": [
       "<Axes: xlabel='hallucinations_count', ylabel='Count'>"
      ]
     },
     "execution_count": 7,
     "metadata": {},
     "output_type": "execute_result"
    },
    {
     "data": {
      "image/png": "[encoded data removed]",
      "text/plain": [
       "<Figure size 640x480 with 1 Axes>"
      ]
     },
     "metadata": {},
     "output_type": "display_data"
    }
   ],
   "source": [
    "sns.histplot(data=df, x='hallucinations_count', bins=9)"
   ]
  },
  {
   "cell_type": "code",
   "execution_count": 8,
   "metadata": {},
   "outputs": [],
   "source": [
    "import re\n",
    "def clean_text(text):\n",
    "    # Remove specific substrings\n",
    "    text = re.sub(r'<0x0A>', ' ', text)\n",
    "    text = re.sub(r'</s>', '', text)\n",
    "    # Remove any other unwanted patterns (adjust the regex if needed)\n",
    "    text = re.sub(r'<[^>]*>', '', text)\n",
    "    return text.strip()\n",
    "\n",
    "def count_words(text):\n",
    "    words = text.split()\n",
    "    return len(words)\n",
    "\n",
    "\n",
    "def first_brackets_index(text):\n",
    "    cleaned_text = clean_text(text)\n",
    "    words = cleaned_text.split()\n",
    "    for i, word in enumerate(words):\n",
    "        if \"[\" in word:\n",
    "            return i / len(words)\n",
    "    return -1 \n",
    "\n",
    "def extract_brackets_len(text):\n",
    "    lens = []\n",
    "    cleaned_text = clean_text(text)\n",
    "    words = cleaned_text.split()\n",
    "    for i, word in enumerate(words):\n",
    "        if \"[\" in word:\n",
    "            counter = 0\n",
    "            for j in range(i, len(words)):\n",
    "                counter += 1\n",
    "                if \"]\" in words[j]:\n",
    "                    break\n",
    "            lens.append(counter)\n",
    "    return lens\n",
    "\n",
    "\n",
    "df['clean_description'] = df['description'].apply(clean_text)\n",
    "df['description_len'] = df['clean_description'].apply(count_words)\n",
    "df['first_hal_index'] = df['hallucinations'].apply(first_brackets_index)\n",
    "df['hal_lens'] = df['hallucinations'].apply(extract_brackets_len)"
   ]
  },
  {
   "cell_type": "code",
   "execution_count": 9,
   "metadata": {},
   "outputs": [],
   "source": [
    "hal_lens = []\n",
    "for len_list in df['hal_lens'].values:\n",
    "    hal_lens.extend(len_list)"
   ]
  },
  {
   "cell_type": "code",
   "execution_count": 10,
   "metadata": {},
   "outputs": [
    {
     "data": {
      "text/plain": [
       "Index([  1,   2,   3,  13,  32,  33,  41,  44,  51,  53,  54,  58,  69,  70,\n",
       "        72,  81,  82,  88,  89,  90,  92,  93,  94,  97, 100, 102, 103, 104,\n",
       "       106, 107, 108, 110, 111, 112, 114, 115, 117, 118, 119, 120, 123, 124,\n",
       "       128, 129, 131, 132, 133, 136, 137, 138, 139, 140, 143, 144, 145, 147,\n",
       "       148],\n",
       "      dtype='int64')"
      ]
     },
     "execution_count": 10,
     "metadata": {},
     "output_type": "execute_result"
    }
   ],
   "source": [
    "def is_max_greater_than_3(lst):\n",
    "    if len(lst) == 0:\n",
    "        return False\n",
    "    return max(lst) > 3\n",
    "\n",
    "df[df['hal_lens'].apply(is_max_greater_than_3)].index"
   ]
  },
  {
   "cell_type": "code",
   "execution_count": 11,
   "metadata": {},
   "outputs": [
    {
     "data": {
      "text/plain": [
       "1     286\n",
       "2      56\n",
       "3      33\n",
       "4      24\n",
       "5      11\n",
       "6      10\n",
       "9       7\n",
       "8       6\n",
       "7       5\n",
       "14      4\n",
       "11      3\n",
       "17      2\n",
       "18      2\n",
       "15      2\n",
       "31      1\n",
       "25      1\n",
       "13      1\n",
       "30      1\n",
       "12      1\n",
       "21      1\n",
       "10      1\n",
       "Name: count, dtype: int64"
      ]
     },
     "execution_count": 11,
     "metadata": {},
     "output_type": "execute_result"
    }
   ],
   "source": [
    "pd.Series(hal_lens).value_counts()"
   ]
  },
  {
   "cell_type": "code",
   "execution_count": 12,
   "metadata": {},
   "outputs": [
    {
     "data": {
      "text/plain": [
       "<Axes: xlabel='first_hal_index', ylabel='Count'>"
      ]
     },
     "execution_count": 12,
     "metadata": {},
     "output_type": "execute_result"
    },
    {
     "data": {
      "image/png": "[encoded data removed]",
      "text/plain": [
       "<Figure size 640x480 with 1 Axes>"
      ]
     },
     "metadata": {},
     "output_type": "display_data"
    }
   ],
   "source": [
    "filtered_df = df[df['first_hal_index'] != -1]\n",
    "sns.histplot(data=filtered_df, x='first_hal_index', bins=10)"
   ]
  },
  {
   "cell_type": "code",
   "execution_count": 13,
   "metadata": {},
   "outputs": [
    {
     "data": {
      "text/plain": [
       "PearsonRResult(statistic=np.float64(0.2975767607904813), pvalue=np.float64(0.00021712795110060798))"
      ]
     },
     "execution_count": 13,
     "metadata": {},
     "output_type": "execute_result"
    }
   ],
   "source": [
    "pearsonr(df['description_len'], df['hallucinations_count'])"
   ]
  },
  {
   "cell_type": "code",
   "execution_count": 14,
   "metadata": {},
   "outputs": [
    {
     "data": {
      "text/plain": [
       "PearsonRResult(statistic=np.float64(0.03385592164590433), pvalue=np.float64(0.6808541189672309))"
      ]
     },
     "execution_count": 14,
     "metadata": {},
     "output_type": "execute_result"
    }
   ],
   "source": [
    "pearsonr(df['hedges_count'], df['hallucinations_count'])"
   ]
  },
  {
   "cell_type": "code",
   "execution_count": 15,
   "metadata": {},
   "outputs": [],
   "source": [
    "new_data = {\n",
    "    'probe_number': [],\n",
    "    'pred': [],\n",
    "    'label': [],\n",
    "    'prob': []\n",
    "}\n",
    "\n",
    "# Loop through each column group and append to new_data\n",
    "for i in range(1, 5):\n",
    "    new_data['probe_number'].extend([i] * len(df))\n",
    "    new_data['pred'].extend(df[f'pred_{i}'])\n",
    "    new_data['label'].extend(df[f'label_{i}'])\n",
    "    new_data['prob'].extend(df[f'pred_{i}_prob'])\n",
    "\n",
    "# Create the new DataFrame\n",
    "new_df = pd.DataFrame(new_data)\n",
    "new_df['correct_pred'] = (new_df['pred'] == new_df['label']).astype(int)\n",
    "correct_df = new_df[new_df['correct_pred'] == 1]\n",
    "wrong_df = new_df[new_df['correct_pred'] == 0]"
   ]
  },
  {
   "cell_type": "code",
   "execution_count": 16,
   "metadata": {},
   "outputs": [
    {
     "data": {
      "image/png": "[encoded data removed]",
      "text/plain": [
       "<Figure size 640x480 with 1 Axes>"
      ]
     },
     "metadata": {},
     "output_type": "display_data"
    }
   ],
   "source": [
    "sns.histplot(data=correct_df, x=\"prob\", kde=True, stat='probability', label=\"correct\", alpha=0.8)\n",
    "sns.histplot(data=wrong_df, x=\"prob\", kde=True, stat='probability', label=\"wrong\", alpha=0.8)\n",
    "plt.legend()\n",
    "plt.xlabel('Preds Model Probability')\n",
    "plt.ylabel('Ratio')\n",
    "plt.show()\n"
   ]
  },
  {
   "cell_type": "code",
   "execution_count": 17,
   "metadata": {},
   "outputs": [
    {
     "data": {
      "text/plain": [
       "0                            [1]\n",
       "1                   [6, 1, 4, 3]\n",
       "2                            [4]\n",
       "3                   [2, 2, 9, 1]\n",
       "4                            [1]\n",
       "                 ...            \n",
       "145    [1, 10, 2, 2, 1, 1, 1, 1]\n",
       "146                          [1]\n",
       "147           [1, 1, 1, 1, 4, 1]\n",
       "148                       [1, 9]\n",
       "149                       [1, 1]\n",
       "Name: hal_lens, Length: 150, dtype: object"
      ]
     },
     "execution_count": 17,
     "metadata": {},
     "output_type": "execute_result"
    }
   ],
   "source": [
    "df['hal_lens']"
   ]
  }
 ],
 "metadata": {
  "kernelspec": {
   "display_name": "Python 3",
   "language": "python",
   "name": "python3"
  },
  "language_info": {
   "codemirror_mode": {
    "name": "ipython",
    "version": 3
   },
   "file_extension": ".py",
   "mimetype": "text/x-python",
   "name": "python",
   "nbconvert_exporter": "python",
   "pygments_lexer": "ipython3",
   "version": "3.10.14"
  }
 },
 "nbformat": 4,
 "nbformat_minor": 2
}
